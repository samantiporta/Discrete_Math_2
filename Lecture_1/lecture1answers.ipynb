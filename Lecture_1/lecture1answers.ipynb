{
 "cells": [
  {
   "cell_type": "markdown",
   "metadata": {},
   "source": [
    "$\\textbf{Nica Antiporta}$\n",
    "\n",
    "single dollar sign for inline $\\mathbb{Z}$ is the symbol for integers\n",
    "\n",
    "$$\n",
    "\\sum_{x = 0}^{10} x^{2}\n",
    "$$"
   ]
  }
 ],
 "metadata": {
  "language_info": {
   "name": "python"
  }
 },
 "nbformat": 4,
 "nbformat_minor": 2
}
